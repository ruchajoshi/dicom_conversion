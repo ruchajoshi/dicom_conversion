{
 "cells": [
  {
   "cell_type": "code",
   "execution_count": 1,
   "metadata": {},
   "outputs": [],
   "source": [
    "path_to_rtss = r\"C:\\Users\\r.joshi\\Downloads\\01_11_2024\\7139000004\\COMBI\\L\"\n",
    "output_path =r\"./\""
   ]
  },
  {
   "cell_type": "markdown",
   "metadata": {},
   "source": [
    "Modality Configuration Skeleton Generation"
   ]
  },
  {
   "cell_type": "code",
   "execution_count": 2,
   "metadata": {},
   "outputs": [],
   "source": [
    "# ps_io.DatasetDicomCrawler(path_to_rtss, write_modality_config=True).execute()"
   ]
  },
  {
   "cell_type": "code",
   "execution_count": 3,
   "metadata": {},
   "outputs": [],
   "source": [
    "import pyradise.fileio as ps_io "
   ]
  },
  {
   "cell_type": "code",
   "execution_count": 4,
   "metadata": {},
   "outputs": [],
   "source": [
    "def dicom_rtss_to_niftii(input_dir_path: str,\n",
    "                         output_dir_path: str\n",
    "                         ) -> None:\n",
    "    # Assumption: The modality configuation file is existing for the subject to load\n",
    "\n",
    "    # Crawl for data and generate the pre-loading information\n",
    "    crawler = ps_io.SubjectDicomCrawler(input_dir_path)\n",
    "    series_info = crawler.execute()\n",
    "\n",
    "    print(series_info)\n",
    "\n",
    "    # (optional) Make a selection on the pre-loading information\n",
    "    selection = ps_io.ModalityInfoSelector(keep=('T1',))\n",
    "    series_info = selection.execute(series_info)\n",
    "\n",
    "    # Load dicom series data to a subjecy instance\n",
    "    loader = ps_io.SubjectLoader()\n",
    "    subject = loader.load(series_info)\n",
    "\n",
    "    # Write the subject to disk as NIfTI files\n",
    "    # NIfTI is the default writer setting\n",
    "    writer = ps_io.SubjectWriter()\n",
    "    # writer.write(output_dir_path, subject)\n"
   ]
  },
  {
   "cell_type": "code",
   "execution_count": 5,
   "metadata": {},
   "outputs": [
    {
     "name": "stdout",
     "output_type": "stream",
     "text": [
      "(<pyradise.fileio.series_info.DicomSeriesImageInfo object at 0x0000022527F6CE90>, <pyradise.fileio.series_info.DicomSeriesRTSSInfo object at 0x0000022522B8A000>)\n"
     ]
    }
   ],
   "source": [
    "dicom_rtss_to_niftii(path_to_rtss, output_path)"
   ]
  },
  {
   "cell_type": "code",
   "execution_count": 24,
   "metadata": {},
   "outputs": [],
   "source": [
    "def convert_dicom_to_nifti_with_modality_config(input_path: str,\n",
    "                                                output_path: str\n",
    "                                                ) -> None:\n",
    "    # Instantiate a new loader\n",
    "    loader = ps_io.SubjectLoader()\n",
    "\n",
    "    # (optional)\n",
    "    # Get the filter pipeline\n",
    "    # pipeline = get_pipeline()\n",
    "\n",
    "    # Instantiate a new writer with default settings\n",
    "    writer = ps_io.SubjectWriter()\n",
    "\n",
    "    # (optional)\n",
    "    # Instantiate a new selection to exclude additional SeriesInfo entries\n",
    "    expected_modalities = ('T1', 'T2')\n",
    "    modality_selection = ps_io.ModalityInfoSelector(expected_modalities)\n",
    "\n",
    "    # # If using RTSS Converter (assuming it's available in your system)\n",
    "    rtss_info = ps_io.DicomSeriesRTSSInfo(r\"C:\\Users\\r.joshi\\Downloads\\01_11_2024\\7139000004\\COMBI\\L\\rtss.dcm\")\n",
    "    image_info = ps_io.DicomSeriesImageInfo(r\"C:\\Users\\r.joshi\\Downloads\\01_11_2024\\7139000004\\COMBI\\L\\rtss.dcm\")\n",
    "    rtss_converter = ps_io.DicomRTSSSeriesConverter(rtss_infos=rtss_info, image_infos=image_info, registration_infos=None)\n",
    "\n",
    "    # Search DICOM files for each subject and iterate over the crawler\n",
    "    crawler = ps_io.DatasetDicomCrawler(input_path)\n",
    "    print(crawler)\n",
    "    for series_info in crawler:\n",
    "        # (optional)\n",
    "        # Keep just the selected modalities for loading\n",
    "        series_info = modality_selection.execute(series_info)\n",
    "        print(series_info)\n",
    "\n",
    "        # Load the subject from the series info\n",
    "        subject = loader.load(series_info)\n",
    "\n",
    "        # Check if RTSS exists in the series (RTSS handling is optional)\n",
    "        if 'RTSS' in series_info.get_series_type():\n",
    "            print(f'Converting RTSS data for subject {subject.get_name()}...')\n",
    "            # Apply the RTSS converter to handle structure sets (assuming RTSS is available)\n",
    "            rtss_converter.convert(series_info)\n",
    "\n",
    "        # (optional)\n",
    "        # Execute the filter pipeline on the subject\n",
    "        print(f'Processing subject {subject.get_name()}...')\n",
    "        # subject = pipeline.execute(subject)\n",
    "\n",
    "        # Write each subject to a specific subject directory\n",
    "        # writer.write_to_subject_folder(output_path, subject, write_transforms=True)\n"
   ]
  },
  {
   "cell_type": "code",
   "execution_count": 25,
   "metadata": {},
   "outputs": [
    {
     "name": "stdout",
     "output_type": "stream",
     "text": [
      "<pyradise.fileio.crawling.DatasetDicomCrawler object at 0x000002252BFED0A0>\n",
      "(<pyradise.fileio.series_info.DicomSeriesImageInfo object at 0x0000022527D24320>, <pyradise.fileio.series_info.DicomSeriesRTSSInfo object at 0x000002252BFEE090>)\n"
     ]
    },
    {
     "ename": "AttributeError",
     "evalue": "'tuple' object has no attribute 'get_series_type'",
     "output_type": "error",
     "traceback": [
      "\u001b[1;31m---------------------------------------------------------------------------\u001b[0m",
      "\u001b[1;31mAttributeError\u001b[0m                            Traceback (most recent call last)",
      "Cell \u001b[1;32mIn[25], line 1\u001b[0m\n\u001b[1;32m----> 1\u001b[0m convert_dicom_to_nifti_with_modality_config(path_to_rtss, output_path)\n",
      "Cell \u001b[1;32mIn[24], line 37\u001b[0m, in \u001b[0;36mconvert_dicom_to_nifti_with_modality_config\u001b[1;34m(input_path, output_path)\u001b[0m\n\u001b[0;32m     34\u001b[0m subject \u001b[38;5;241m=\u001b[39m loader\u001b[38;5;241m.\u001b[39mload(series_info)\n\u001b[0;32m     36\u001b[0m \u001b[38;5;66;03m# Check if RTSS exists in the series (RTSS handling is optional)\u001b[39;00m\n\u001b[1;32m---> 37\u001b[0m \u001b[38;5;28;01mif\u001b[39;00m \u001b[38;5;124m'\u001b[39m\u001b[38;5;124mRTSS\u001b[39m\u001b[38;5;124m'\u001b[39m \u001b[38;5;129;01min\u001b[39;00m series_info\u001b[38;5;241m.\u001b[39mget_series_type():\n\u001b[0;32m     38\u001b[0m     \u001b[38;5;28mprint\u001b[39m(\u001b[38;5;124mf\u001b[39m\u001b[38;5;124m'\u001b[39m\u001b[38;5;124mConverting RTSS data for subject \u001b[39m\u001b[38;5;132;01m{\u001b[39;00msubject\u001b[38;5;241m.\u001b[39mget_name()\u001b[38;5;132;01m}\u001b[39;00m\u001b[38;5;124m...\u001b[39m\u001b[38;5;124m'\u001b[39m)\n\u001b[0;32m     39\u001b[0m     \u001b[38;5;66;03m# Apply the RTSS converter to handle structure sets (assuming RTSS is available)\u001b[39;00m\n",
      "\u001b[1;31mAttributeError\u001b[0m: 'tuple' object has no attribute 'get_series_type'"
     ]
    }
   ],
   "source": [
    "convert_dicom_to_nifti_with_modality_config(path_to_rtss, output_path)"
   ]
  },
  {
   "cell_type": "code",
   "execution_count": null,
   "metadata": {},
   "outputs": [],
   "source": []
  }
 ],
 "metadata": {
  "kernelspec": {
   "display_name": "medsam",
   "language": "python",
   "name": "python3"
  },
  "language_info": {
   "codemirror_mode": {
    "name": "ipython",
    "version": 3
   },
   "file_extension": ".py",
   "mimetype": "text/x-python",
   "name": "python",
   "nbconvert_exporter": "python",
   "pygments_lexer": "ipython3",
   "version": "3.12.9"
  }
 },
 "nbformat": 4,
 "nbformat_minor": 2
}
