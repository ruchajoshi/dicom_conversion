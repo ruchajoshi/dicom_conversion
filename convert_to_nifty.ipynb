{
 "cells": [
  {
   "cell_type": "code",
   "execution_count": 1,
   "metadata": {},
   "outputs": [],
   "source": [
    "path_to_rtss = r\"C:\\Users\\r.joshi\\Downloads\\01_11_2024\\7139000004\\COMBI\\L\"\n",
    "output_path =r\"./\""
   ]
  },
  {
   "cell_type": "markdown",
   "metadata": {},
   "source": [
    "Modality Configuration Skeleton Generation"
   ]
  },
  {
   "cell_type": "code",
   "execution_count": 3,
   "metadata": {},
   "outputs": [],
   "source": [
    "from typing import (Tuple, Optional)\n",
    "\n",
    "import pyradise.data as ps_data\n",
    "import pyradise.fileio as ps_io \n",
    "import pyradise.process as ps_proc"
   ]
  },
  {
   "cell_type": "code",
   "execution_count": 4,
   "metadata": {},
   "outputs": [],
   "source": [
    "def get_pipeline(output_size: Tuple[int, int, int] = (256, 256, 256),\n",
    "                 output_spacing: Tuple[float, float, float] = (1.0, 1.0, 1.0),\n",
    "                 reference_modality: str = 'T1'\n",
    "                 ) -> ps_proc.FilterPipeline:\n",
    "    # Create an empty filter pipeline\n",
    "    pipeline = ps_proc.FilterPipeline()\n",
    "\n",
    "    # Add an orientation filter to the pipeline\n",
    "    orientation_params = ps_proc.OrientationFilterParams(output_orientation='RAS')\n",
    "    pipeline.add_filter(ps_proc.OrientationFilter(), orientation_params)\n",
    "\n",
    "    # Add a resampling filter to the pipeline\n",
    "    resample_params = ps_proc.ResampleFilterParams(output_size,\n",
    "                                                   output_spacing,\n",
    "                                                   reference_modality=reference_modality,\n",
    "                                                   centering_method='reference')\n",
    "    pipeline.add_filter(ps_proc.ResampleFilter(), resample_params)\n",
    "\n",
    "    return pipeline"
   ]
  },
  {
   "cell_type": "code",
   "execution_count": 6,
   "metadata": {},
   "outputs": [
    {
     "name": "stderr",
     "output_type": "stream",
     "text": [
      "The modality configuration file already exists and will not be overwritten.\n"
     ]
    },
    {
     "data": {
      "text/plain": [
       "((<pyradise.fileio.series_info.DicomSeriesImageInfo at 0x20445ee25d0>,\n",
       "  <pyradise.fileio.series_info.DicomSeriesRTSSInfo at 0x2046b4a2990>),)"
      ]
     },
     "execution_count": 6,
     "metadata": {},
     "output_type": "execute_result"
    }
   ],
   "source": [
    "ps_io.DatasetDicomCrawler(path_to_rtss, write_modality_config=True).execute()"
   ]
  },
  {
   "cell_type": "code",
   "execution_count": null,
   "metadata": {},
   "outputs": [],
   "source": [
    "def convert_dicom_to_nifti_with_modality_config(input_path: str,\n",
    "                                                output_path: str\n",
    "                                                ) -> None:\n",
    "    # Instantiate a new loader\n",
    "    loader = ps_io.SubjectLoader()\n",
    "\n",
    "    # (optional)\n",
    "    # Get the filter pipeline\n",
    "    pipeline = get_pipeline()\n",
    "\n",
    "    # Instantiate a new writer with default settings\n",
    "    # Note: You can adjust here the output image file format\n",
    "    # and the naming of the output files\n",
    "    writer = ps_io.SubjectWriter()\n",
    "\n",
    "    # (optional)\n",
    "    # Instantiate a new selection to exclude additional SeriesInfo entries\n",
    "    expected_modalities = ('T1', 'T2')\n",
    "    modality_selection = ps_io.ModalityInfoSelector(expected_modalities)\n",
    "\n",
    "    # Search DICOM files for each subject and iterate over the crawler\n",
    "    crawler = ps_io.DatasetDicomCrawler(input_path)\n",
    "    for series_info in crawler:\n",
    "        # (optional)\n",
    "        # Keep just the selected modalities for loading\n",
    "        # Note: SeriesInfo entries for non-image data get returned unfiltered\n",
    "        # series_info = modality_selection.execute(series_info)\n",
    "        \n",
    "\n",
    "        # Load the subject from the series info\n",
    "        subject = loader.load(series_info)\n",
    "\n",
    "        reg_info = ps_io.DicomSeriesRegistrationInfo(r\"C:\\Users\\r.joshi\\Downloads\\01_11_2024\\7139000003\\COMBI\\L\\ultrasound.0.dcm\", subject)\n",
    "\n",
    "        # (optional)\n",
    "        # Execute the filter pipeline on the subject\n",
    "        print(f'Processing subject {subject.get_name()}...')\n",
    "        # subject = pipeline.execute(subject)\n",
    "\n",
    "        # Write each subject to a specific subject directory\n",
    "        writer.write_to_subject_folder(output_path, subject,\n",
    "                                       write_transforms=False)"
   ]
  },
  {
   "cell_type": "code",
   "execution_count": 28,
   "metadata": {},
   "outputs": [
    {
     "ename": "AttributeError",
     "evalue": "'DicomSeriesRTSSInfo' object has no attribute 'get'",
     "output_type": "error",
     "traceback": [
      "\u001b[1;31m---------------------------------------------------------------------------\u001b[0m",
      "\u001b[1;31mAttributeError\u001b[0m                            Traceback (most recent call last)",
      "Cell \u001b[1;32mIn[28], line 2\u001b[0m\n\u001b[0;32m      1\u001b[0m \u001b[38;5;66;03m# Execute the conversion procedure (approach 1)\u001b[39;00m\n\u001b[1;32m----> 2\u001b[0m convert_dicom_to_nifti_with_modality_config(path_to_rtss,\n\u001b[0;32m      3\u001b[0m                                             output_path)\n",
      "Cell \u001b[1;32mIn[27], line 28\u001b[0m, in \u001b[0;36mconvert_dicom_to_nifti_with_modality_config\u001b[1;34m(input_path, output_path)\u001b[0m\n\u001b[0;32m     22\u001b[0m crawler \u001b[38;5;241m=\u001b[39m ps_io\u001b[38;5;241m.\u001b[39mDatasetDicomCrawler(input_path)\n\u001b[0;32m     23\u001b[0m \u001b[38;5;28;01mfor\u001b[39;00m series_info \u001b[38;5;129;01min\u001b[39;00m crawler:\n\u001b[0;32m     24\u001b[0m     \u001b[38;5;66;03m# (optional)\u001b[39;00m\n\u001b[0;32m     25\u001b[0m     \u001b[38;5;66;03m# Keep just the selected modalities for loading\u001b[39;00m\n\u001b[0;32m     26\u001b[0m     \u001b[38;5;66;03m# Note: SeriesInfo entries for non-image data get returned unfiltered\u001b[39;00m\n\u001b[0;32m     27\u001b[0m     \u001b[38;5;66;03m# series_info = modality_selection.execute(series_info)\u001b[39;00m\n\u001b[1;32m---> 28\u001b[0m     reg_info \u001b[38;5;241m=\u001b[39m ps_io\u001b[38;5;241m.\u001b[39mDicomSeriesRegistrationInfo(\u001b[38;5;124mr\u001b[39m\u001b[38;5;124m\"\u001b[39m\u001b[38;5;124mC:\u001b[39m\u001b[38;5;124m\\\u001b[39m\u001b[38;5;124mUsers\u001b[39m\u001b[38;5;124m\\\u001b[39m\u001b[38;5;124mr.joshi\u001b[39m\u001b[38;5;124m\\\u001b[39m\u001b[38;5;124mDownloads\u001b[39m\u001b[38;5;124m\\\u001b[39m\u001b[38;5;124m01_11_2024\u001b[39m\u001b[38;5;124m\\\u001b[39m\u001b[38;5;124m7139000003\u001b[39m\u001b[38;5;124m\\\u001b[39m\u001b[38;5;124mCOMBI\u001b[39m\u001b[38;5;124m\\\u001b[39m\u001b[38;5;124mL\u001b[39m\u001b[38;5;124m\\\u001b[39m\u001b[38;5;124multrasound.0.dcm\u001b[39m\u001b[38;5;124m\"\u001b[39m, series_info)\n\u001b[0;32m     30\u001b[0m     \u001b[38;5;66;03m# Load the subject from the series info\u001b[39;00m\n\u001b[0;32m     31\u001b[0m     subject \u001b[38;5;241m=\u001b[39m loader\u001b[38;5;241m.\u001b[39mload(series_info)\n",
      "File \u001b[1;32mc:\\Users\\r.joshi\\AppData\\Local\\miniconda3\\envs\\medsam\\Lib\\site-packages\\pyradise\\fileio\\series_info.py:505\u001b[0m, in \u001b[0;36mDicomSeriesRegistrationInfo.__init__\u001b[1;34m(self, path, image_infos, persistent_image_infos)\u001b[0m\n\u001b[0;32m    502\u001b[0m \u001b[38;5;28mself\u001b[39m\u001b[38;5;241m.\u001b[39mreferenced_series_instance_uid_identity \u001b[38;5;241m=\u001b[39m \u001b[38;5;124m\"\u001b[39m\u001b[38;5;124m\"\u001b[39m\n\u001b[0;32m    504\u001b[0m \u001b[38;5;66;03m# since the update is lightweight let's update this class upon instantiation\u001b[39;00m\n\u001b[1;32m--> 505\u001b[0m \u001b[38;5;28mself\u001b[39m\u001b[38;5;241m.\u001b[39mupdate()\n",
      "File \u001b[1;32mc:\\Users\\r.joshi\\AppData\\Local\\miniconda3\\envs\\medsam\\Lib\\site-packages\\pyradise\\fileio\\series_info.py:754\u001b[0m, in \u001b[0;36mDicomSeriesRegistrationInfo.update\u001b[1;34m(self)\u001b[0m\n\u001b[0;32m    751\u001b[0m \u001b[38;5;28;01mif\u001b[39;00m \u001b[38;5;129;01mnot\u001b[39;00m \u001b[38;5;28mself\u001b[39m\u001b[38;5;241m.\u001b[39mdataset:\n\u001b[0;32m    752\u001b[0m     \u001b[38;5;28mself\u001b[39m\u001b[38;5;241m.\u001b[39mdataset \u001b[38;5;241m=\u001b[39m load_dataset(\u001b[38;5;28mself\u001b[39m\u001b[38;5;241m.\u001b[39mpath[\u001b[38;5;241m0\u001b[39m])\n\u001b[1;32m--> 754\u001b[0m combined_info \u001b[38;5;241m=\u001b[39m \u001b[38;5;28mself\u001b[39m\u001b[38;5;241m.\u001b[39mget_registration_infos(\u001b[38;5;28mself\u001b[39m\u001b[38;5;241m.\u001b[39mdataset, \u001b[38;5;28mself\u001b[39m\u001b[38;5;241m.\u001b[39mimage_infos)\n\u001b[0;32m    756\u001b[0m \u001b[38;5;28;01mfor\u001b[39;00m info \u001b[38;5;129;01min\u001b[39;00m combined_info:\n\u001b[0;32m    757\u001b[0m     \u001b[38;5;28;01mif\u001b[39;00m info\u001b[38;5;241m.\u001b[39mis_reference_image:\n",
      "File \u001b[1;32mc:\\Users\\r.joshi\\AppData\\Local\\miniconda3\\envs\\medsam\\Lib\\site-packages\\pyradise\\fileio\\series_info.py:663\u001b[0m, in \u001b[0;36mDicomSeriesRegistrationInfo.get_registration_infos\u001b[1;34m(registration_dataset, image_infos)\u001b[0m\n\u001b[0;32m    659\u001b[0m registration_infos \u001b[38;5;241m=\u001b[39m DicomSeriesRegistrationInfo\u001b[38;5;241m.\u001b[39m_get_registration_sequence_info(registration_dataset)\n\u001b[0;32m    661\u001b[0m reference_sequence_infos \u001b[38;5;241m=\u001b[39m DicomSeriesRegistrationInfo\u001b[38;5;241m.\u001b[39mget_referenced_series_info(registration_dataset)\n\u001b[1;32m--> 663\u001b[0m internal_image_infos \u001b[38;5;241m=\u001b[39m DicomSeriesRegistrationInfo\u001b[38;5;241m.\u001b[39m_get_unique_series_instance_uid_entries(image_infos)\n\u001b[0;32m    665\u001b[0m identity_transform \u001b[38;5;241m=\u001b[39m (\u001b[38;5;241m1.0\u001b[39m, \u001b[38;5;241m0.0\u001b[39m, \u001b[38;5;241m0.0\u001b[39m, \u001b[38;5;241m0.0\u001b[39m, \u001b[38;5;241m0.0\u001b[39m, \u001b[38;5;241m1.0\u001b[39m, \u001b[38;5;241m0.0\u001b[39m, \u001b[38;5;241m0.0\u001b[39m, \u001b[38;5;241m0.0\u001b[39m, \u001b[38;5;241m0.0\u001b[39m, \u001b[38;5;241m1.0\u001b[39m, \u001b[38;5;241m0.0\u001b[39m, \u001b[38;5;241m0.0\u001b[39m, \u001b[38;5;241m0.0\u001b[39m, \u001b[38;5;241m0.0\u001b[39m, \u001b[38;5;241m1.0\u001b[39m)\n\u001b[0;32m    667\u001b[0m \u001b[38;5;28;01mdef\u001b[39;00m \u001b[38;5;21mis_ident\u001b[39m(transform: Tuple[\u001b[38;5;28mlist\u001b[39m]):\n",
      "File \u001b[1;32mc:\\Users\\r.joshi\\AppData\\Local\\miniconda3\\envs\\medsam\\Lib\\site-packages\\pyradise\\fileio\\series_info.py:636\u001b[0m, in \u001b[0;36mDicomSeriesRegistrationInfo._get_unique_series_instance_uid_entries\u001b[1;34m(infos)\u001b[0m\n\u001b[0;32m    634\u001b[0m         unique_instance_uids\u001b[38;5;241m.\u001b[39mpop(index)\n\u001b[0;32m    635\u001b[0m \u001b[38;5;28;01melse\u001b[39;00m:\n\u001b[1;32m--> 636\u001b[0m     \u001b[38;5;28;01mif\u001b[39;00m \u001b[38;5;28mstr\u001b[39m(info\u001b[38;5;241m.\u001b[39mget(\u001b[38;5;124m\"\u001b[39m\u001b[38;5;124mSeriesInstanceUID\u001b[39m\u001b[38;5;124m\"\u001b[39m)) \u001b[38;5;129;01min\u001b[39;00m unique_instance_uids:\n\u001b[0;32m    637\u001b[0m         unique_infos\u001b[38;5;241m.\u001b[39mappend(info)\n\u001b[0;32m    639\u001b[0m         index \u001b[38;5;241m=\u001b[39m unique_instance_uids\u001b[38;5;241m.\u001b[39mindex(\u001b[38;5;28mstr\u001b[39m(info\u001b[38;5;241m.\u001b[39mget(\u001b[38;5;124m\"\u001b[39m\u001b[38;5;124mSeriesInstanceUID\u001b[39m\u001b[38;5;124m\"\u001b[39m)))\n",
      "\u001b[1;31mAttributeError\u001b[0m: 'DicomSeriesRTSSInfo' object has no attribute 'get'"
     ]
    }
   ],
   "source": [
    "# Execute the conversion procedure (approach 1)\n",
    "convert_dicom_to_nifti_with_modality_config(path_to_rtss,\n",
    "                                            output_path)"
   ]
  },
  {
   "cell_type": "code",
   "execution_count": 15,
   "metadata": {},
   "outputs": [],
   "source": [
    "rtss_info = ps_io.DicomSeriesRTSSInfo(r\"C:\\Users\\r.joshi\\Downloads\\01_11_2024\\7139000003\\COMBI\\L\\rtss.dcm\")"
   ]
  },
  {
   "cell_type": "code",
   "execution_count": 22,
   "metadata": {},
   "outputs": [
    {
     "data": {
      "text/plain": [
       "'NA'"
      ]
     },
     "execution_count": 22,
     "metadata": {},
     "output_type": "execute_result"
    }
   ],
   "source": [
    "rtss_info.get_annotator().get_name()"
   ]
  },
  {
   "cell_type": "code",
   "execution_count": null,
   "metadata": {},
   "outputs": [
    {
     "ename": "TypeError",
     "evalue": "DicomSeriesRegistrationInfo.__init__() missing 1 required positional argument: 'image_infos'",
     "output_type": "error",
     "traceback": [
      "\u001b[1;31m---------------------------------------------------------------------------\u001b[0m",
      "\u001b[1;31mTypeError\u001b[0m                                 Traceback (most recent call last)",
      "Cell \u001b[1;32mIn[26], line 1\u001b[0m\n\u001b[1;32m----> 1\u001b[0m reg_info \u001b[38;5;241m=\u001b[39m ps_io\u001b[38;5;241m.\u001b[39mDicomSeriesRegistrationInfo(\u001b[38;5;124mr\u001b[39m\u001b[38;5;124m\"\u001b[39m\u001b[38;5;124mC:\u001b[39m\u001b[38;5;124m\\\u001b[39m\u001b[38;5;124mUsers\u001b[39m\u001b[38;5;124m\\\u001b[39m\u001b[38;5;124mr.joshi\u001b[39m\u001b[38;5;124m\\\u001b[39m\u001b[38;5;124mDownloads\u001b[39m\u001b[38;5;124m\\\u001b[39m\u001b[38;5;124m01_11_2024\u001b[39m\u001b[38;5;124m\\\u001b[39m\u001b[38;5;124m7139000003\u001b[39m\u001b[38;5;124m\\\u001b[39m\u001b[38;5;124mCOMBI\u001b[39m\u001b[38;5;124m\\\u001b[39m\u001b[38;5;124mL\u001b[39m\u001b[38;5;124m\\\u001b[39m\u001b[38;5;124multrasound.0.dcm\u001b[39m\u001b[38;5;124m\"\u001b[39m, )\n",
      "\u001b[1;31mTypeError\u001b[0m: DicomSeriesRegistrationInfo.__init__() missing 1 required positional argument: 'image_infos'"
     ]
    }
   ],
   "source": []
  },
  {
   "cell_type": "code",
   "execution_count": null,
   "metadata": {},
   "outputs": [],
   "source": []
  }
 ],
 "metadata": {
  "kernelspec": {
   "display_name": "medsam",
   "language": "python",
   "name": "python3"
  },
  "language_info": {
   "codemirror_mode": {
    "name": "ipython",
    "version": 3
   },
   "file_extension": ".py",
   "mimetype": "text/x-python",
   "name": "python",
   "nbconvert_exporter": "python",
   "pygments_lexer": "ipython3",
   "version": "3.12.9"
  }
 },
 "nbformat": 4,
 "nbformat_minor": 2
}
